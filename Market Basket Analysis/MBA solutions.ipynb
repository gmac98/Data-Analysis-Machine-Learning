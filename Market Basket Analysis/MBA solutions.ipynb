{
 "cells": [
  {
   "cell_type": "markdown",
   "metadata": {},
   "source": [
    "## Lab1: MBA Solutions\n",
    "\n",
    "##### Overview\n",
    "We will perform market basket analysis on a transaction dataset using the Apriori algorithm.\n",
    "\n",
    "The transaction dataset consists of 1000 transactions, and may be found in Lab1MLB.csv. There are 50 items available for purchase, labelled 1 through 50. Each transaction is limited to 5 items or less.\n",
    "\n",
    "Apriori has a few parameters which must be adjusted upon working with a new dataset. These parameters include minimum support, minimum confidence, and minimum lift. All of these parameters will assume their unitless form here (as opposed to units of baskets). The idea is to start these parameters high, keeping minimum support greater than minimum confidence, and minimum lift greater than 1.\n",
    "\n",
    "These parameter constraints enable you to determine itemsets and their supports from association rules, the standard Apriori output. When a rule has an empty antecedent, then the support of the rule is the support of the consequent. This allows us to obtain frequent 1-itemsets from Apriori output. When the antecedent is not empty, the support of the rule is the support of the itemset formed by merging antecedent with consequent.\n",
    "\n",
    "The goal of parameter tuning for Apriori is to find as many interesting association rules without excessive computational complexity. Usually, one starts by revealing no association rules. This is because “interesting” requires achievement of minimum support, confidence and lift.\n",
    "Here is one way to tune Apriori parameters. Start with the lift threshold very high, like 2. Start with the minimum support higher than 1−exp(−basketsize/number of items), and the minimum confidence about 50% less than the minimum support. When you run Apriori in this mode, it should be pretty fast on this dataset, and you will see few if any association rules from the output. Next, drop the lift gradually down to 1, each time re-running Apriori and looking for association rules. If you find some, great! If you find too many, raise the minimum support and minimum confidence proportionally, and reset the minimum lift to 2. If no rules are produced, drop the minimum support and minimum confidence proportionally, and reset the minimum lift to its initial value. Repeat as before. Eventually, you should see some, but not too many “interesting” association rules. Once this happens, you should adjust the tuning parameters more gradually, and see what you find. There are many others, please explore!"
   ]
  },
  {
   "cell_type": "code",
   "execution_count": 1,
   "metadata": {
    "collapsed": true
   },
   "outputs": [],
   "source": [
    "#installation of required libraries\n",
    "# pip install numpy\n",
    "# pip install pandas\n",
    "# pip install mlxtend\n",
    "\n",
    "#importing the libraries\n",
    "import pandas as pd\n",
    "import numpy as np\n",
    "\n",
    "from mlxtend.preprocessing import TransactionEncoder \n",
    "from mlxtend.frequent_patterns import apriori, association_rules"
   ]
  },
  {
   "cell_type": "code",
   "execution_count": 2,
   "metadata": {},
   "outputs": [
    {
     "data": {
      "text/html": [
       "<div>\n",
       "<style scoped>\n",
       "    .dataframe tbody tr th:only-of-type {\n",
       "        vertical-align: middle;\n",
       "    }\n",
       "\n",
       "    .dataframe tbody tr th {\n",
       "        vertical-align: top;\n",
       "    }\n",
       "\n",
       "    .dataframe thead th {\n",
       "        text-align: right;\n",
       "    }\n",
       "</style>\n",
       "<table border=\"1\" class=\"dataframe\">\n",
       "  <thead>\n",
       "    <tr style=\"text-align: right;\">\n",
       "      <th></th>\n",
       "      <th>0</th>\n",
       "      <th>1</th>\n",
       "      <th>2</th>\n",
       "      <th>3</th>\n",
       "      <th>4</th>\n",
       "    </tr>\n",
       "  </thead>\n",
       "  <tbody>\n",
       "    <tr>\n",
       "      <th>0</th>\n",
       "      <td>5</td>\n",
       "      <td>6</td>\n",
       "      <td>11</td>\n",
       "      <td>36.0</td>\n",
       "      <td>46.0</td>\n",
       "    </tr>\n",
       "    <tr>\n",
       "      <th>1</th>\n",
       "      <td>6</td>\n",
       "      <td>17</td>\n",
       "      <td>24</td>\n",
       "      <td>31.0</td>\n",
       "      <td>35.0</td>\n",
       "    </tr>\n",
       "    <tr>\n",
       "      <th>2</th>\n",
       "      <td>9</td>\n",
       "      <td>20</td>\n",
       "      <td>25</td>\n",
       "      <td>30.0</td>\n",
       "      <td>NaN</td>\n",
       "    </tr>\n",
       "    <tr>\n",
       "      <th>3</th>\n",
       "      <td>7</td>\n",
       "      <td>21</td>\n",
       "      <td>27</td>\n",
       "      <td>35.0</td>\n",
       "      <td>41.0</td>\n",
       "    </tr>\n",
       "    <tr>\n",
       "      <th>4</th>\n",
       "      <td>1</td>\n",
       "      <td>24</td>\n",
       "      <td>29</td>\n",
       "      <td>40.0</td>\n",
       "      <td>43.0</td>\n",
       "    </tr>\n",
       "  </tbody>\n",
       "</table>\n",
       "</div>"
      ],
      "text/plain": [
       "   0   1   2     3     4\n",
       "0  5   6  11  36.0  46.0\n",
       "1  6  17  24  31.0  35.0\n",
       "2  9  20  25  30.0   NaN\n",
       "3  7  21  27  35.0  41.0\n",
       "4  1  24  29  40.0  43.0"
      ]
     },
     "execution_count": 2,
     "metadata": {},
     "output_type": "execute_result"
    }
   ],
   "source": [
    "#importing dataset file\n",
    "data = pd.read_csv(\"./data/Lab1MBA.csv\",sep = \",\",header = None)\n",
    "data.head(5)"
   ]
  },
  {
   "cell_type": "code",
   "execution_count": 3,
   "metadata": {},
   "outputs": [
    {
     "name": "stdout",
     "output_type": "stream",
     "text": [
      "Number of Transactions:  1000\n"
     ]
    }
   ],
   "source": [
    "#creating list of transactions from dataset\n",
    "transactions = []\n",
    "for i in range(0, 1000):\n",
    "    transactions.append([data.values[i,j] for j in range(0, 5)])\n",
    "print(\"Number of Transactions: \",len(transactions))"
   ]
  },
  {
   "cell_type": "code",
   "execution_count": 4,
   "metadata": {
    "collapsed": true
   },
   "outputs": [],
   "source": [
    "#instantiate transaction encoder\n",
    "encoder = TransactionEncoder().fit(transactions)\n",
    "one_hot = encoder.transform(transactions)\n",
    "dataframe = pd.DataFrame(one_hot,columns = encoder.columns_)"
   ]
  },
  {
   "cell_type": "code",
   "execution_count": 5,
   "metadata": {},
   "outputs": [
    {
     "name": "stdout",
     "output_type": "stream",
     "text": [
      "112\n"
     ]
    }
   ],
   "source": [
    "#training apriori algorithm on the dataset\n",
    "frequent_itemsets = apriori(dataframe, min_support = 0.0138 , max_len = 3, use_colnames=True)\n",
    "print(len(frequent_itemsets))"
   ]
  },
  {
   "cell_type": "markdown",
   "metadata": {},
   "source": [
    "**Q1. By trial and error, what are the values of the minimum support, minimum confidence, and minimum lift for which the number of interesting association rules is between 1 and 2 times the number of items?**"
   ]
  },
  {
   "cell_type": "code",
   "execution_count": 6,
   "metadata": {
    "collapsed": true
   },
   "outputs": [
    {
     "name": "stdout",
     "output_type": "stream",
     "text": [
      "Min Support = 0.0138, Min Confidence = 0.0120, Min Lift = 2\n",
      "Number of interesting rules obtained :  0\n",
      "Empty DataFrame\n",
      "Columns: [antecedents, consequents, antecedent support, consequent support, support, confidence, lift, leverage, conviction, zhangs_metric]\n",
      "Index: []\n"
     ]
    }
   ],
   "source": [
    "rules = association_rules(frequent_itemsets,metric = \"lift\",min_threshold = 2)\n",
    "rules = rules[(rules['confidence'] > 0.5) & (rules['lift'] > 1.4)]\n",
    "print(\"Min Support = 0.0138, Min Confidence = 0.0120, Min Lift = 2\")\n",
    "print(\"Number of interesting rules obtained : \",len(rules))\n",
    "\n",
    "rules = rules.sort_values(['confidence', 'lift'], ascending = [False, False])\n",
    "pd.set_option('display.max_columns', 15)\n",
    "pd.set_option('display.max_rows', 100)\n",
    "pd.set_option('display.width', 1000)\n",
    "print(rules.head(len(rules)))"
   ]
  },
  {
   "cell_type": "markdown",
   "metadata": {},
   "source": [
    "**Q2. What relationship between these variables keeps the number of interesting association rules in this range?**"
   ]
  },
  {
   "cell_type": "markdown",
   "metadata": {},
   "source": [
    "The relationship between Support, Confidence and Lift is defined by how these association rules are interrelated to find which items are associated with each other and how the value of one rule influences the value of another rule. Support gives the popularity of an itemset by measuring its proportion of transactions in which the itemset appears. Confidence gives the likeliness of item B being purchased when item A is purchased and is given by confidence (A → B) = Support(A→B) / Support(A). However, confidence can be sometimes misleading as it does not account for the popularity of the consequents. Lift gives how likely will item B be purchased when item A is purchased while controlling the popularity of item B and is given by lift (A → B) = Support(A→B) / Support(A)\\*Support(B). A lift value greater than 1, indicates that the rule is better at predicting the result than guessing. A lift value lesser than 1, indicates that the rule is doing worse than informed guessing.\n",
    "\n",
    "\n",
    "When the min support value is set to a suitable minimum value w.r.t basket size and number of items, we can find item sets with good probability of occurring in the market basket with lift value greater than 1 which implies that these relationships are very likely to occur in the market basket. When we set the min support value, it checks for items with popularity greater than 1.38% in the dataset and lift tries to find relationships of such items with other popular items to give meaningful association rules. Confidence will give the likeliness of occurrence of consequent on the cart given that the cart already has antecedents i.e when we have items with atleast 1.38% popularity(support) in the dataset, we are much more likely to find consequent items with good conditional probability giving interesting association rules between different items. Setting appropriate values for support, confidence and lift gives lesser count and more interesting set of association rules thereby limiting the number of association rules in the range of 50 –100.\n"
   ]
  },
  {
   "cell_type": "markdown",
   "metadata": {},
   "source": [
    "**Q3. Provide a table of the 75 most frequent itemsets for the following parameters: minimum support=0.015, minimum confidence=0.01, minimum lift=1. Order the itemsets by descending count. (hint: you may use the output rules to determine these itemsets). You may use the association rule format for this table, whose columns are: antecedent, consequent, support, confidence, lift, and count.**"
   ]
  },
  {
   "cell_type": "code",
   "execution_count": 7,
   "metadata": {},
   "outputs": [
    {
     "name": "stdout",
     "output_type": "stream",
     "text": [
      "Min Support = 0.015, Min Confidence = 0.01, Min Lift = 1\n",
      "    antecedents consequents  antecedent support  consequent support  support  confidence      lift  leverage  conviction  zhangs_metric\n",
      "52        (9.0)      (37.0)               0.114               0.123    0.019    0.166667  1.355014  0.004978    1.052400       0.295711\n",
      "53       (37.0)       (9.0)               0.123               0.114    0.019    0.154472  1.355014  0.004978    1.047865       0.298746\n",
      "4         (8.0)       (2.0)               0.107               0.107    0.018    0.168224  1.572190  0.006551    1.073607       0.407553\n",
      "5         (2.0)       (8.0)               0.107               0.107    0.018    0.168224  1.572190  0.006551    1.073607       0.407553\n",
      "74       (35.0)      (14.0)               0.119               0.094    0.018    0.151261  1.609154  0.006814    1.067465       0.429688\n",
      "75       (14.0)      (35.0)               0.094               0.119    0.018    0.191489  1.609154  0.006814    1.089658       0.417832\n",
      "0         (1.0)      (45.0)               0.094               0.107    0.017    0.180851  1.690197  0.006942    1.090156       0.450721\n",
      "6        (33.0)       (2.0)               0.107               0.107    0.017    0.158879  1.484846  0.005551    1.061678       0.365654\n",
      "7         (2.0)      (33.0)               0.107               0.107    0.017    0.158879  1.484846  0.005551    1.061678       0.365654\n",
      "119      (42.0)      (41.0)               0.091               0.108    0.017    0.186813  1.729752  0.007172    1.096919       0.464117\n",
      "118      (41.0)      (42.0)               0.108               0.091    0.017    0.157407  1.729752  0.007172    1.078813       0.472962\n",
      "1        (45.0)       (1.0)               0.107               0.094    0.017    0.158879  1.690197  0.006942    1.077133       0.457282\n",
      "58       (10.0)      (34.0)               0.110               0.108    0.017    0.154545  1.430976  0.005120    1.055054       0.338401\n",
      "59       (34.0)      (10.0)               0.108               0.110    0.017    0.157407  1.430976  0.005120    1.056264       0.337642\n",
      "88       (37.0)      (23.0)               0.123               0.098    0.016    0.130081  1.327360  0.003946    1.036879       0.281214\n",
      "57       (23.0)      (10.0)               0.098               0.110    0.016    0.163265  1.484230  0.005220    1.063659       0.361696\n",
      "106      (49.0)      (34.0)               0.107               0.108    0.016    0.149533  1.384562  0.004444    1.048835       0.311030\n",
      "89       (23.0)      (37.0)               0.098               0.123    0.016    0.163265  1.327360  0.003946    1.048122       0.273420\n",
      "90       (24.0)      (31.0)               0.112               0.102    0.016    0.142857  1.400560  0.004576    1.047667       0.322072\n",
      "91       (31.0)      (24.0)               0.102               0.112    0.016    0.156863  1.400560  0.004576    1.053209       0.318486\n",
      "42        (9.0)      (21.0)               0.114               0.100    0.016    0.140351  1.403509  0.004600    1.046939       0.324492\n",
      "107      (34.0)      (49.0)               0.108               0.107    0.016    0.148148  1.384562  0.004444    1.048304       0.311379\n",
      "110      (35.0)      (37.0)               0.119               0.123    0.016    0.134454  1.093120  0.001363    1.013233       0.096694\n",
      "111      (37.0)      (35.0)               0.123               0.119    0.016    0.130081  1.093120  0.001363    1.012738       0.097135\n",
      "112      (36.0)      (45.0)               0.096               0.107    0.016    0.166667  1.557632  0.005728    1.071600       0.396018\n",
      "113      (45.0)      (36.0)               0.107               0.096    0.016    0.149533  1.557632  0.005728    1.062945       0.400896\n",
      "43       (21.0)       (9.0)               0.100               0.114    0.016    0.160000  1.403509  0.004600    1.054762       0.319444\n",
      "56       (10.0)      (23.0)               0.110               0.098    0.016    0.145455  1.484230  0.005220    1.055532       0.366573\n",
      "22        (8.0)       (5.0)               0.107               0.103    0.016    0.149533  1.451774  0.004979    1.054714       0.348474\n",
      "14       (26.0)       (3.0)               0.095               0.110    0.016    0.168421  1.531100  0.005550    1.070253       0.383287\n",
      "35        (6.0)      (34.0)               0.102               0.108    0.016    0.156863  1.452433  0.004984    1.057953       0.346882\n",
      "34       (34.0)       (6.0)               0.108               0.102    0.016    0.148148  1.452433  0.004984    1.054174       0.349215\n",
      "26       (35.0)       (5.0)               0.119               0.103    0.016    0.134454  1.305377  0.003743    1.036340       0.265536\n",
      "27        (5.0)      (35.0)               0.103               0.119    0.016    0.155340  1.305377  0.003743    1.043023       0.260800\n",
      "15        (3.0)      (26.0)               0.110               0.095    0.016    0.145455  1.531100  0.005550    1.059043       0.389747\n",
      "23        (5.0)       (8.0)               0.103               0.107    0.016    0.155340  1.451774  0.004979    1.057230       0.346920\n",
      "17        (3.0)      (42.0)               0.110               0.091    0.015    0.136364  1.498501  0.004990    1.052526       0.373783\n",
      "16       (42.0)       (3.0)               0.091               0.110    0.015    0.164835  1.498501  0.004990    1.065658       0.365970\n",
      "92       (24.0)      (35.0)               0.112               0.119    0.015    0.133929  1.125450  0.001672    1.017237       0.125526\n",
      "93       (35.0)      (24.0)               0.119               0.112    0.015    0.126050  1.125450  0.001672    1.016077       0.126523\n",
      "102      (33.0)      (41.0)               0.107               0.108    0.015    0.140187  1.298027  0.003444    1.037435       0.257111\n",
      "103      (41.0)      (33.0)               0.108               0.107    0.015    0.138889  1.298027  0.003444    1.037032       0.257399\n",
      "37       (20.0)       (8.0)               0.108               0.107    0.015    0.138889  1.298027  0.003444    1.037032       0.257399\n",
      "108      (35.0)      (36.0)               0.119               0.096    0.015    0.126050  1.313025  0.003576    1.034385       0.270602\n",
      "13       (15.0)       (3.0)               0.086               0.110    0.015    0.174419  1.585624  0.005540    1.078028       0.404085\n",
      "12        (3.0)      (15.0)               0.110               0.086    0.015    0.136364  1.585624  0.005540    1.058316       0.414981\n",
      "11        (6.0)       (3.0)               0.102               0.110    0.015    0.147059  1.336898  0.003780    1.043448       0.280624\n",
      "10        (3.0)       (6.0)               0.110               0.102    0.015    0.136364  1.336898  0.003780    1.039789       0.283146\n",
      "114      (49.0)      (37.0)               0.107               0.123    0.015    0.140187  1.139731  0.001839    1.019989       0.137290\n",
      "115      (37.0)      (49.0)               0.123               0.107    0.015    0.121951  1.139731  0.001839    1.017028       0.139795\n",
      "9         (2.0)      (49.0)               0.107               0.107    0.015    0.140187  1.310158  0.003551    1.038598       0.265099\n",
      "8        (49.0)       (2.0)               0.107               0.107    0.015    0.140187  1.310158  0.003551    1.038598       0.265099\n",
      "122      (48.0)      (43.0)               0.091               0.096    0.015    0.164835  1.717033  0.006264    1.082421       0.459406\n",
      "109      (36.0)      (35.0)               0.096               0.119    0.015    0.156250  1.313025  0.003576    1.044148       0.263717\n",
      "86       (24.0)      (23.0)               0.112               0.098    0.015    0.133929  1.366618  0.004024    1.041485       0.302102\n",
      "87       (23.0)      (24.0)               0.098               0.112    0.015    0.153061  1.366618  0.004024    1.048482       0.297413\n",
      "31        (6.0)      (18.0)               0.102               0.087    0.015    0.147059  1.690331  0.006126    1.070414       0.454788\n",
      "46        (9.0)      (28.0)               0.114               0.094    0.015    0.131579  1.399776  0.004284    1.043273       0.322348\n",
      "47       (28.0)       (9.0)               0.094               0.114    0.015    0.159574  1.399776  0.004284    1.054228       0.315232\n",
      "50        (9.0)      (31.0)               0.114               0.102    0.015    0.131579  1.289990  0.003372    1.034061       0.253725\n",
      "51       (31.0)       (9.0)               0.102               0.114    0.015    0.147059  1.289990  0.003372    1.038759       0.250334\n",
      "54       (10.0)      (21.0)               0.110               0.100    0.015    0.136364  1.363636  0.004000    1.042105       0.299625\n",
      "55       (21.0)      (10.0)               0.100               0.110    0.015    0.150000  1.363636  0.004000    1.047059       0.296296\n",
      "33       (31.0)       (6.0)               0.102               0.102    0.015    0.147059  1.441753  0.004596    1.052828       0.341203\n",
      "32        (6.0)      (31.0)               0.102               0.102    0.015    0.147059  1.441753  0.004596    1.052828       0.341203\n",
      "30       (18.0)       (6.0)               0.087               0.102    0.015    0.172414  1.690331  0.006126    1.085083       0.447317\n",
      "36        (8.0)      (20.0)               0.107               0.108    0.015    0.140187  1.298027  0.003444    1.037435       0.257111\n",
      "60       (10.0)      (37.0)               0.110               0.123    0.015    0.136364  1.108647  0.001470    1.015474       0.110112\n",
      "61       (37.0)      (10.0)               0.123               0.110    0.015    0.121951  1.108647  0.001470    1.013611       0.111745\n",
      "62       (11.0)      (23.0)               0.094               0.098    0.015    0.159574  1.628311  0.005788    1.073266       0.425901\n",
      "63       (23.0)      (11.0)               0.098               0.094    0.015    0.153061  1.628311  0.005788    1.069735       0.427790\n",
      "82       (41.0)      (20.0)               0.108               0.108    0.015    0.138889  1.286008  0.003336    1.035871       0.249327\n",
      "83       (20.0)      (41.0)               0.108               0.108    0.015    0.138889  1.286008  0.003336    1.035871       0.249327\n",
      "84       (43.0)      (20.0)               0.096               0.108    0.015    0.156250  1.446759  0.004632    1.057185       0.341593\n",
      "85       (20.0)      (43.0)               0.108               0.096    0.015    0.138889  1.446759  0.004632    1.049806       0.346188\n"
     ]
    }
   ],
   "source": [
    "rules = association_rules(frequent_itemsets, metric = \"lift\",min_threshold = 1)\n",
    "rules = rules[(rules['support'] >= 0.015) & (rules['confidence'] >= 0.01) & (rules['lift'] >= 1)]\n",
    "rules = rules.sort_values(['support'], ascending =False) #display itemsets in descending count of support\n",
    "pd.set_option('display.max_columns', 15)\n",
    "pd.set_option('display.max_rows', 100)\n",
    "pd.set_option('display.width', 1000)\n",
    "print(\"Min Support = 0.015, Min Confidence = 0.01, Min Lift = 1\")\n",
    "print(rules.head(75)) #displays 75 most frequent itemsets"
   ]
  },
  {
   "cell_type": "markdown",
   "metadata": {},
   "source": [
    "**Q4. For the same parameter settings as in Q3, determine the 50 most interesting association rules, as measured by lift. Present your findings in a table with similar format as in your answer to Q3, with rules arranged by descending lift.**"
   ]
  },
  {
   "cell_type": "code",
   "execution_count": 8,
   "metadata": {},
   "outputs": [
    {
     "name": "stdout",
     "output_type": "stream",
     "text": [
      "Min Support = 0.015, Min Confidence = 0.01, Min Lift = 1\n",
      "    antecedents consequents  antecedent support  consequent support  support  confidence      lift  leverage  conviction  zhangs_metric\n",
      "119      (42.0)      (41.0)               0.091               0.108    0.017    0.186813  1.729752  0.007172    1.096919       0.464117\n",
      "118      (41.0)      (42.0)               0.108               0.091    0.017    0.157407  1.729752  0.007172    1.078813       0.472962\n",
      "123      (43.0)      (48.0)               0.096               0.091    0.015    0.156250  1.717033  0.006264    1.077333       0.461947\n",
      "122      (48.0)      (43.0)               0.091               0.096    0.015    0.164835  1.717033  0.006264    1.082421       0.459406\n",
      "30       (18.0)       (6.0)               0.087               0.102    0.015    0.172414  1.690331  0.006126    1.085083       0.447317\n",
      "31        (6.0)      (18.0)               0.102               0.087    0.015    0.147059  1.690331  0.006126    1.070414       0.454788\n",
      "1        (45.0)       (1.0)               0.107               0.094    0.017    0.158879  1.690197  0.006942    1.077133       0.457282\n",
      "0         (1.0)      (45.0)               0.094               0.107    0.017    0.180851  1.690197  0.006942    1.090156       0.450721\n",
      "62       (11.0)      (23.0)               0.094               0.098    0.015    0.159574  1.628311  0.005788    1.073266       0.425901\n",
      "63       (23.0)      (11.0)               0.098               0.094    0.015    0.153061  1.628311  0.005788    1.069735       0.427790\n",
      "75       (14.0)      (35.0)               0.094               0.119    0.018    0.191489  1.609154  0.006814    1.089658       0.417832\n",
      "74       (35.0)      (14.0)               0.119               0.094    0.018    0.151261  1.609154  0.006814    1.067465       0.429688\n",
      "12        (3.0)      (15.0)               0.110               0.086    0.015    0.136364  1.585624  0.005540    1.058316       0.414981\n",
      "13       (15.0)       (3.0)               0.086               0.110    0.015    0.174419  1.585624  0.005540    1.078028       0.404085\n",
      "5         (2.0)       (8.0)               0.107               0.107    0.018    0.168224  1.572190  0.006551    1.073607       0.407553\n",
      "4         (8.0)       (2.0)               0.107               0.107    0.018    0.168224  1.572190  0.006551    1.073607       0.407553\n",
      "113      (45.0)      (36.0)               0.107               0.096    0.016    0.149533  1.557632  0.005728    1.062945       0.400896\n",
      "112      (36.0)      (45.0)               0.096               0.107    0.016    0.166667  1.557632  0.005728    1.071600       0.396018\n",
      "14       (26.0)       (3.0)               0.095               0.110    0.016    0.168421  1.531100  0.005550    1.070253       0.383287\n",
      "15        (3.0)      (26.0)               0.110               0.095    0.016    0.145455  1.531100  0.005550    1.059043       0.389747\n",
      "16       (42.0)       (3.0)               0.091               0.110    0.015    0.164835  1.498501  0.004990    1.065658       0.365970\n",
      "17        (3.0)      (42.0)               0.110               0.091    0.015    0.136364  1.498501  0.004990    1.052526       0.373783\n",
      "7         (2.0)      (33.0)               0.107               0.107    0.017    0.158879  1.484846  0.005551    1.061678       0.365654\n",
      "6        (33.0)       (2.0)               0.107               0.107    0.017    0.158879  1.484846  0.005551    1.061678       0.365654\n",
      "56       (10.0)      (23.0)               0.110               0.098    0.016    0.145455  1.484230  0.005220    1.055532       0.366573\n",
      "57       (23.0)      (10.0)               0.098               0.110    0.016    0.163265  1.484230  0.005220    1.063659       0.361696\n",
      "35        (6.0)      (34.0)               0.102               0.108    0.016    0.156863  1.452433  0.004984    1.057953       0.346882\n",
      "34       (34.0)       (6.0)               0.108               0.102    0.016    0.148148  1.452433  0.004984    1.054174       0.349215\n",
      "23        (5.0)       (8.0)               0.103               0.107    0.016    0.155340  1.451774  0.004979    1.057230       0.346920\n",
      "22        (8.0)       (5.0)               0.107               0.103    0.016    0.149533  1.451774  0.004979    1.054714       0.348474\n",
      "85       (20.0)      (43.0)               0.108               0.096    0.015    0.138889  1.446759  0.004632    1.049806       0.346188\n",
      "84       (43.0)      (20.0)               0.096               0.108    0.015    0.156250  1.446759  0.004632    1.057185       0.341593\n",
      "32        (6.0)      (31.0)               0.102               0.102    0.015    0.147059  1.441753  0.004596    1.052828       0.341203\n",
      "33       (31.0)       (6.0)               0.102               0.102    0.015    0.147059  1.441753  0.004596    1.052828       0.341203\n",
      "58       (10.0)      (34.0)               0.110               0.108    0.017    0.154545  1.430976  0.005120    1.055054       0.338401\n",
      "59       (34.0)      (10.0)               0.108               0.110    0.017    0.157407  1.430976  0.005120    1.056264       0.337642\n",
      "42        (9.0)      (21.0)               0.114               0.100    0.016    0.140351  1.403509  0.004600    1.046939       0.324492\n",
      "43       (21.0)       (9.0)               0.100               0.114    0.016    0.160000  1.403509  0.004600    1.054762       0.319444\n",
      "91       (31.0)      (24.0)               0.102               0.112    0.016    0.156863  1.400560  0.004576    1.053209       0.318486\n",
      "90       (24.0)      (31.0)               0.112               0.102    0.016    0.142857  1.400560  0.004576    1.047667       0.322072\n",
      "46        (9.0)      (28.0)               0.114               0.094    0.015    0.131579  1.399776  0.004284    1.043273       0.322348\n",
      "47       (28.0)       (9.0)               0.094               0.114    0.015    0.159574  1.399776  0.004284    1.054228       0.315232\n",
      "106      (49.0)      (34.0)               0.107               0.108    0.016    0.149533  1.384562  0.004444    1.048835       0.311030\n",
      "107      (34.0)      (49.0)               0.108               0.107    0.016    0.148148  1.384562  0.004444    1.048304       0.311379\n",
      "86       (24.0)      (23.0)               0.112               0.098    0.015    0.133929  1.366618  0.004024    1.041485       0.302102\n",
      "87       (23.0)      (24.0)               0.098               0.112    0.015    0.153061  1.366618  0.004024    1.048482       0.297413\n",
      "55       (21.0)      (10.0)               0.100               0.110    0.015    0.150000  1.363636  0.004000    1.047059       0.296296\n",
      "54       (10.0)      (21.0)               0.110               0.100    0.015    0.136364  1.363636  0.004000    1.042105       0.299625\n",
      "53       (37.0)       (9.0)               0.123               0.114    0.019    0.154472  1.355014  0.004978    1.047865       0.298746\n",
      "52        (9.0)      (37.0)               0.114               0.123    0.019    0.166667  1.355014  0.004978    1.052400       0.295711\n"
     ]
    }
   ],
   "source": [
    "rules = association_rules(frequent_itemsets, metric = \"lift\",min_threshold = 1)\n",
    "rules = rules[(rules['support'] >= 0.015) & (rules['confidence'] >= 0.01) & (rules['lift'] >= 1)]\n",
    "rules = rules.sort_values(['lift'], ascending =False) #display itemsets in descending count of lift\n",
    "pd.set_option('display.max_columns', 15)\n",
    "pd.set_option('display.max_rows', 100)\n",
    "pd.set_option('display.width', 1000)\n",
    "print(\"Min Support = 0.015, Min Confidence = 0.01, Min Lift = 1\")\n",
    "print(rules.head(50)) #displays 50 most interesting association rules"
   ]
  },
  {
   "cell_type": "code",
   "execution_count": null,
   "metadata": {
    "collapsed": true
   },
   "outputs": [],
   "source": []
  }
 ],
 "metadata": {
  "kernelspec": {
   "display_name": "Python 3 (ipykernel)",
   "language": "python",
   "name": "python3"
  },
  "language_info": {
   "codemirror_mode": {
    "name": "ipython",
    "version": 3
   },
   "file_extension": ".py",
   "mimetype": "text/x-python",
   "name": "python",
   "nbconvert_exporter": "python",
   "pygments_lexer": "ipython3",
   "version": "3.11.5"
  },
  "toc": {
   "base_numbering": 1,
   "nav_menu": {},
   "number_sections": true,
   "sideBar": true,
   "skip_h1_title": false,
   "title_cell": "Table of Contents",
   "title_sidebar": "Contents",
   "toc_cell": false,
   "toc_position": {},
   "toc_section_display": true,
   "toc_window_display": false
  },
  "varInspector": {
   "cols": {
    "lenName": 16,
    "lenType": 16,
    "lenVar": 40
   },
   "kernels_config": {
    "python": {
     "delete_cmd_postfix": "",
     "delete_cmd_prefix": "del ",
     "library": "var_list.py",
     "varRefreshCmd": "print(var_dic_list())"
    },
    "r": {
     "delete_cmd_postfix": ") ",
     "delete_cmd_prefix": "rm(",
     "library": "var_list.r",
     "varRefreshCmd": "cat(var_dic_list()) "
    }
   },
   "types_to_exclude": [
    "module",
    "function",
    "builtin_function_or_method",
    "instance",
    "_Feature"
   ],
   "window_display": false
  }
 },
 "nbformat": 4,
 "nbformat_minor": 4
}
